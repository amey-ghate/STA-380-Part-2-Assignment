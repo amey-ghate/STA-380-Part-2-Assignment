{
 "cells": [
  {
   "cell_type": "code",
   "execution_count": 1,
   "metadata": {
    "colab": {
     "base_uri": "https://localhost:8080/"
    },
    "id": "YAYfBKFjxH6C",
    "outputId": "80faadf6-e1cb-46d5-8d3c-32badedf9a20"
   },
   "outputs": [
    {
     "name": "stdout",
     "output_type": "stream",
     "text": [
      "Cloning into 'STA380'...\n",
      "remote: Enumerating objects: 35426, done.\u001b[K\n",
      "remote: Counting objects: 100% (8401/8401), done.\u001b[K\n",
      "remote: Compressing objects: 100% (7057/7057), done.\u001b[K\n",
      "remote: Total 35426 (delta 1259), reused 8347 (delta 1239), pack-reused 27025\u001b[K\n",
      "Receiving objects: 100% (35426/35426), 346.18 MiB | 17.39 MiB/s, done.\n",
      "Resolving deltas: 100% (1262/1262), done.\n",
      "Updating files: 100% (35749/35749), done.\n"
     ]
    }
   ],
   "source": [
    "!git clone https://github.com/jgscott/STA380.git"
   ]
  },
  {
   "cell_type": "code",
   "execution_count": 2,
   "metadata": {
    "colab": {
     "base_uri": "https://localhost:8080/"
    },
    "id": "Fr8LbZz5xOer",
    "outputId": "cbcb3735-3e10-4664-ff7d-3f819aa5d2ec"
   },
   "outputs": [
    {
     "name": "stderr",
     "output_type": "stream",
     "text": [
      "[nltk_data] Downloading package punkt to /root/nltk_data...\n",
      "[nltk_data]   Unzipping tokenizers/punkt.zip.\n"
     ]
    }
   ],
   "source": [
    "import os\n",
    "import nltk\n",
    "from nltk.tokenize import word_tokenize\n",
    "from nltk.corpus import stopwords\n",
    "from sklearn.feature_extraction.text import CountVectorizer\n",
    "import string\n",
    "from nltk.stem import PorterStemmer\n",
    "\n",
    "nltk.download('punkt') # for tokenizing\n",
    "\n",
    "# Helper function to read data from a labeled directory\n",
    "def read_data_from_directory(directory_path):\n",
    "    authors = os.listdir(directory_path)\n",
    "    texts = []\n",
    "    labels = []\n",
    "    for author in authors:\n",
    "        author_path = os.path.join(directory_path, author)\n",
    "        for file_name in os.listdir(author_path):\n",
    "            file_path = os.path.join(author_path, file_name)\n",
    "            with open(file_path, 'r', encoding='utf-8') as f:\n",
    "                texts.append(f.read())\n",
    "                labels.append(author)\n",
    "    return texts, labels\n",
    "\n",
    "# Reading the training and test data\n",
    "train_texts, train_labels = read_data_from_directory(\"STA380/data/ReutersC50/C50train\")\n",
    "test_texts, test_labels = read_data_from_directory(\"STA380/data/ReutersC50/C50test\")"
   ]
  },
  {
   "cell_type": "code",
   "execution_count": 3,
   "metadata": {
    "colab": {
     "base_uri": "https://localhost:8080/"
    },
    "id": "l4smNtrQxfWb",
    "outputId": "1c2625ba-6b8f-4a5b-f978-bc085f804ad0"
   },
   "outputs": [
    {
     "name": "stderr",
     "output_type": "stream",
     "text": [
      "[nltk_data] Downloading package stopwords to /root/nltk_data...\n",
      "[nltk_data]   Unzipping corpora/stopwords.zip.\n"
     ]
    }
   ],
   "source": [
    "\n",
    "# Helper function to tokenize ,remove space, remove punctuation, and stem\n",
    "nltk.download('stopwords')\n",
    "stop_words = set(stopwords.words('english'))\n",
    "\n",
    "def preprocess_text(text):\n",
    "    # Tokenize\n",
    "    text = re.sub(r'\\s+', ' ', text)\n",
    "    tokens = word_tokenize(text.lower())\n",
    "\n",
    "    # Remove punctuation\n",
    "    tokens = [token for token in tokens if token not in string.punctuation and token not in stop_words]\n",
    "\n",
    "    # Stemming\n",
    "    stemmer = PorterStemmer()\n",
    "    stemmed_tokens = [stemmer.stem(token) for token in tokens]\n",
    "\n",
    "    return stemmed_tokens"
   ]
  },
  {
   "cell_type": "code",
   "execution_count": 4,
   "metadata": {
    "colab": {
     "base_uri": "https://localhost:8080/"
    },
    "id": "8VCYCrPUxnUi",
    "outputId": "0f9a01c5-bfae-41af-e76c-80c616d055f4"
   },
   "outputs": [
    {
     "name": "stdout",
     "output_type": "stream",
     "text": [
      "Total number of training documents: 2500\n",
      "Total number of test documents: 2500\n",
      "\n",
      "Average document length in training set: 328.4308 words\n",
      "Minimum document length in training set: 33 words\n",
      "Maximum document length in training set: 957 words\n",
      "\n",
      "Average document length in test set: 333.2568 words\n",
      "Minimum document length in test set: 42 words\n",
      "Maximum document length in test set: 934 words\n"
     ]
    }
   ],
   "source": [
    "import re\n",
    "import matplotlib.pyplot as plt\n",
    "import numpy as np\n",
    "from collections import Counter\n",
    "\n",
    "# Basic Statistics\n",
    "print(f\"Total number of training documents: {len(train_texts)}\")\n",
    "print(f\"Total number of test documents: {len(test_texts)}\")\n",
    "\n",
    "train_doc_lengths = [len(preprocess_text(text)) for text in train_texts]\n",
    "test_doc_lengths = [len(preprocess_text(text)) for text in test_texts]\n",
    "\n",
    "print(f\"\\nAverage document length in training set: {np.mean(train_doc_lengths)} words\")\n",
    "print(f\"Minimum document length in training set: {np.min(train_doc_lengths)} words\")\n",
    "print(f\"Maximum document length in training set: {np.max(train_doc_lengths)} words\")\n",
    "print(f\"\\nAverage document length in test set: {np.mean(test_doc_lengths)} words\")\n",
    "print(f\"Minimum document length in test set: {np.min(test_doc_lengths)} words\")\n",
    "print(f\"Maximum document length in test set: {np.max(test_doc_lengths)} words\")"
   ]
  },
  {
   "cell_type": "code",
   "execution_count": 5,
   "metadata": {
    "colab": {
     "base_uri": "https://localhost:8080/",
     "height": 782
    },
    "id": "3BCk2PpExpYY",
    "outputId": "22d13a5c-58c1-4bf0-92f4-f2cdd0f0c64e"
   },
   "outputs": [
    {
     "name": "stdout",
     "output_type": "stream",
     "text": [
      "\n",
      "Most common words across the training set:\n",
      "said: 19856\n",
      "'s: 14872\n",
      "``: 13837\n",
      "'': 13757\n",
      "year: 6146\n",
      "compani: 5651\n",
      "would: 5237\n",
      "percent: 5211\n",
      "million: 4942\n",
      "market: 4629\n"
     ]
    },
    {
     "data": {
      "image/png": "[encoded data removed]",
      "text/plain": [
       "<Figure size 1200x600 with 1 Axes>"
      ]
     },
     "metadata": {},
     "output_type": "display_data"
    }
   ],
   "source": [
    "# Term Frequencies\n",
    "all_tokens = [token for text in train_texts for token in preprocess_text(text)]\n",
    "common_tokens = Counter(all_tokens).most_common(10)\n",
    "print(\"\\nMost common words across the training set:\")\n",
    "for token, freq in common_tokens:\n",
    "    print(f\"{token}: {freq}\")\n",
    "\n",
    "# Document Length Distribution\n",
    "plt.figure(figsize=(12, 6))\n",
    "plt.hist(train_doc_lengths, bins=50, alpha=0.7, label='Train')\n",
    "plt.hist(test_doc_lengths, bins=50, alpha=0.7, label='Test')\n",
    "plt.title('Document Length Distribution')\n",
    "plt.xlabel('Document Length')\n",
    "plt.ylabel('Number of Documents')\n",
    "plt.legend()\n",
    "plt.grid(True)\n",
    "plt.show()"
   ]
  },
  {
   "cell_type": "code",
   "execution_count": 6,
   "metadata": {
    "colab": {
     "base_uri": "https://localhost:8080/"
    },
    "id": "PMih8wH4x5MX",
    "outputId": "10451c96-e025-4b57-a8e0-4f5092666289"
   },
   "outputs": [
    {
     "name": "stderr",
     "output_type": "stream",
     "text": [
      "/usr/local/lib/python3.10/dist-packages/sklearn/feature_extraction/text.py:528: UserWarning: The parameter 'token_pattern' will not be used since 'tokenizer' is not None'\n",
      "  warnings.warn(\n",
      "/usr/local/lib/python3.10/dist-packages/sklearn/feature_extraction/text.py:409: UserWarning: Your stop_words may be inconsistent with your preprocessing. Tokenizing the stop words generated tokens ['afterward', 'alon', 'alreadi', 'alway', 'anoth', 'anyon', 'anyth', 'anywher', 'becam', 'becom', 'besid', 'cri', 'describ', 'els', 'elsewher', 'empti', 'everi', 'everyon', 'everyth', 'everywher', 'fifti', 'formerli', 'forti', 'henc', 'hereaft', 'herebi', 'howev', 'hundr', 'inde', 'latterli', 'mani', 'meanwhil', 'moreov', 'mostli', 'nobodi', 'noon', 'noth', 'nowher', 'otherwis', 'perhap', 'pleas', 'seriou', 'sever', 'sinc', 'sincer', 'sixti', 'someon', 'someth', 'sometim', 'somewher', 'thenc', 'thereaft', 'therebi', 'therefor', 'thu', 'togeth', 'twelv', 'twenti', 'whatev', 'whenc', 'whenev', 'wherea', 'whereaft', 'wherebi', 'wherev'] not in stop_words.\n",
      "  warnings.warn(\n"
     ]
    }
   ],
   "source": [
    "# The CountVectorizer will now use my custom tokenizer/preprocesser\n",
    "vectorizer = CountVectorizer(tokenizer=preprocess_text, stop_words='english', max_features=2500)\n",
    "train_dtm = vectorizer.fit_transform(train_texts)\n",
    "test_dtm = vectorizer.transform(test_texts)"
   ]
  },
  {
   "cell_type": "code",
   "execution_count": 7,
   "metadata": {
    "id": "FCPCtzDXx781"
   },
   "outputs": [],
   "source": [
    "from sklearn.decomposition import PCA\n",
    "import seaborn as sns\n",
    "import random\n",
    "\n",
    "unique_authors = list(set(train_labels))\n",
    "\n",
    "#PCA\n",
    "pca = PCA()\n",
    "reduced_data_pca = pca.fit_transform(train_dtm.toarray())  # Convert sparse matrix to dense matrix\n"
   ]
  },
  {
   "cell_type": "code",
   "execution_count": 8,
   "metadata": {
    "colab": {
     "base_uri": "https://localhost:8080/",
     "height": 472
    },
    "id": "r2GuFCYwyOyi",
    "outputId": "b79ef6a4-d9f2-46f8-9adb-0b4f35da7be1"
   },
   "outputs": [
    {
     "data": {
      "image/png": "[encoded data removed]",
      "text/plain": [
       "<Figure size 640x480 with 1 Axes>"
      ]
     },
     "metadata": {},
     "output_type": "display_data"
    }
   ],
   "source": [
    "mod_pca = pca.fit(reduced_data_pca)\n",
    "# pred_pca = reduced_data_pca.transform(test_dtm)\n",
    "\n",
    "# Plot the explained variance by each principal component\n",
    "plt.plot(np.cumsum(mod_pca.explained_variance_ratio_))\n",
    "plt.xlabel('Number of Principal Components')\n",
    "plt.ylabel('Cumulative Explained Variance')\n",
    "plt.title('Explained Variance by Principal Components')\n",
    "plt.show()"
   ]
  },
  {
   "cell_type": "markdown",
   "metadata": {
    "id": "lLi14uXRDon2"
   },
   "source": [
    "### Insight\n",
    "\n",
    "500 Principal components explain more than 80% of variability, hence picking n_components=500"
   ]
  },
  {
   "cell_type": "code",
   "execution_count": 9,
   "metadata": {
    "id": "aw5f0q3n7KV9"
   },
   "outputs": [],
   "source": [
    "pca = PCA(n_components=500)\n",
    "\n",
    "# Fit and transform the training data\n",
    "reduced_data_pca = pca.fit_transform(train_dtm.toarray())\n",
    "\n",
    "# Transform the test data using the same PCA transformation\n",
    "reduced_test_dtm = pca.transform(test_dtm.toarray())"
   ]
  },
  {
   "cell_type": "code",
   "execution_count": 10,
   "metadata": {
    "colab": {
     "base_uri": "https://localhost:8080/"
    },
    "id": "AEjE8V_b5yNg",
    "outputId": "2083f83c-9fd8-4a88-96de-f8f132627421"
   },
   "outputs": [
    {
     "name": "stdout",
     "output_type": "stream",
     "text": [
      "Best n_estimators: 250\n",
      "Best accuracy: 0.7375999999999999\n"
     ]
    }
   ],
   "source": [
    "#RandomForest\n",
    "from sklearn.ensemble import RandomForestClassifier\n",
    "from sklearn.metrics import classification_report, accuracy_score\n",
    "from sklearn.model_selection import GridSearchCV\n",
    "\n",
    "# Define a range of values for n_estimators to try\n",
    "param_grid = {'n_estimators': [50, 100, 150, 200, 250]}\n",
    "\n",
    "# Initialize the Random Forest classifier\n",
    "random_forest = RandomForestClassifier(random_state=42)\n",
    "\n",
    "# Create a GridSearchCV instance\n",
    "grid_search = GridSearchCV(random_forest, param_grid, cv=5, scoring='accuracy')\n",
    "\n",
    "# Fit the GridSearchCV on the reduced training data\n",
    "grid_search.fit(reduced_data_pca, train_labels)\n",
    "\n",
    "# Get the best parameter values and corresponding accuracy score\n",
    "best_n_estimators = grid_search.best_params_['n_estimators']\n",
    "best_accuracy = grid_search.best_score_\n",
    "\n",
    "print(f\"Best n_estimators: {best_n_estimators}\")\n",
    "print(f\"Best accuracy: {best_accuracy}\")\n"
   ]
  },
  {
   "cell_type": "code",
   "execution_count": 11,
   "metadata": {
    "colab": {
     "base_uri": "https://localhost:8080/"
    },
    "id": "GZsoBexzDVx9",
    "outputId": "752be713-3c99-4fb6-a287-c86065240e55"
   },
   "outputs": [
    {
     "name": "stdout",
     "output_type": "stream",
     "text": [
      "Accuracy: 0.5592\n",
      "Classification Report:\n",
      "                    precision    recall  f1-score   support\n",
      "\n",
      "    AaronPressman       0.73      0.74      0.73        50\n",
      "       AlanCrosby       0.75      0.60      0.67        50\n",
      "   AlexanderSmith       0.55      0.12      0.20        50\n",
      "  BenjaminKangLim       0.35      0.30      0.32        50\n",
      "    BernardHickey       0.55      0.62      0.58        50\n",
      "      BradDorfman       0.43      0.50      0.46        50\n",
      " DarrenSchuettler       0.50      0.22      0.31        50\n",
      "      DavidLawder       0.74      0.28      0.41        50\n",
      "    EdnaFernandes       0.25      0.32      0.28        50\n",
      "      EricAuchard       0.35      0.28      0.31        50\n",
      "   FumikoFujisaki       0.86      0.86      0.86        50\n",
      "   GrahamEarnshaw       0.76      0.68      0.72        50\n",
      " HeatherScoffield       0.33      0.32      0.33        50\n",
      "       JanLopatka       0.62      0.64      0.63        50\n",
      "    JaneMacartney       0.12      0.06      0.08        50\n",
      "     JimGilchrist       0.77      1.00      0.87        50\n",
      "   JoWinterbottom       0.78      0.78      0.78        50\n",
      "         JoeOrtiz       0.31      0.56      0.40        50\n",
      "     JohnMastrini       0.43      0.56      0.49        50\n",
      "     JonathanBirt       0.42      0.70      0.52        50\n",
      "      KarlPenhaul       0.57      0.96      0.72        50\n",
      "        KeithWeir       0.65      0.80      0.71        50\n",
      "   KevinDrawbaugh       0.44      0.54      0.49        50\n",
      "    KevinMorrison       0.57      0.24      0.34        50\n",
      "    KirstinRidley       0.69      0.54      0.61        50\n",
      "KouroshKarimkhany       0.56      0.72      0.63        50\n",
      "        LydiaZajc       0.80      0.82      0.81        50\n",
      "   LynneO'Donnell       0.86      0.76      0.81        50\n",
      "  LynnleyBrowning       0.87      0.94      0.90        50\n",
      "  MarcelMichelson       0.58      0.66      0.62        50\n",
      "     MarkBendeich       0.59      0.52      0.55        50\n",
      "       MartinWolk       0.66      0.54      0.59        50\n",
      "     MatthewBunce       0.96      0.86      0.91        50\n",
      "    MichaelConnor       0.61      0.74      0.67        50\n",
      "       MureDickie       0.28      0.36      0.31        50\n",
      "        NickLouth       0.74      0.58      0.65        50\n",
      "  PatriciaCommins       0.74      0.52      0.61        50\n",
      "    PeterHumphrey       0.47      0.64      0.54        50\n",
      "       PierreTran       0.72      0.42      0.53        50\n",
      "       RobinSidel       0.94      0.64      0.76        50\n",
      "     RogerFillion       0.84      0.64      0.73        50\n",
      "      SamuelPerry       0.50      0.42      0.46        50\n",
      "     SarahDavison       0.53      0.34      0.41        50\n",
      "      ScottHillis       0.26      0.32      0.29        50\n",
      "      SimonCowell       0.55      0.58      0.56        50\n",
      "         TanEeLyn       0.46      0.64      0.53        50\n",
      "   TheresePoletti       0.71      0.68      0.69        50\n",
      "       TimFarrand       0.47      0.54      0.50        50\n",
      "       ToddNissen       0.46      0.56      0.50        50\n",
      "     WilliamKazer       0.24      0.30      0.27        50\n",
      "\n",
      "         accuracy                           0.56      2500\n",
      "        macro avg       0.58      0.56      0.55      2500\n",
      "     weighted avg       0.58      0.56      0.55      2500\n",
      "\n"
     ]
    }
   ],
   "source": [
    "random_forest = RandomForestClassifier(n_estimators=250, random_state=42)\n",
    "\n",
    "# Fit the classifier on the training data\n",
    "random_forest.fit(reduced_data_pca, train_labels)\n",
    "\n",
    "# Transform the test data using the same PCA transformation\n",
    "reduced_test_dtm = pca.transform(test_dtm.toarray())\n",
    "\n",
    "# Make predictions on the test data\n",
    "predictions = random_forest.predict(reduced_test_dtm)\n",
    "\n",
    "# Evaluate the model\n",
    "accuracy = accuracy_score(test_labels, predictions)\n",
    "classification_rep = classification_report(test_labels, predictions)\n",
    "\n",
    "print(f\"Accuracy: {accuracy}\")\n",
    "print(\"Classification Report:\\n\", classification_rep)"
   ]
  },
  {
   "cell_type": "code",
   "execution_count": 12,
   "metadata": {
    "colab": {
     "base_uri": "https://localhost:8080/"
    },
    "id": "eGk6y0i0DXkc",
    "outputId": "71f3b035-4d3f-4ea1-fd4f-22748f74a2cf"
   },
   "outputs": [
    {
     "name": "stdout",
     "output_type": "stream",
     "text": [
      "Best n_neighbors: 3\n",
      "Best accuracy: 0.6096\n"
     ]
    }
   ],
   "source": [
    "#KNN\n",
    "from sklearn.model_selection import GridSearchCV\n",
    "from sklearn.neighbors import KNeighborsClassifier\n",
    "\n",
    "# Define a range of values for n_neighbors to try\n",
    "param_grid = {'n_neighbors': [3, 5, 7, 9, 11]}\n",
    "\n",
    "# Create a KNN classifier\n",
    "knn = KNeighborsClassifier()\n",
    "\n",
    "# Create a GridSearchCV instance\n",
    "grid_search = GridSearchCV(knn, param_grid, cv=5, scoring='accuracy')\n",
    "\n",
    "# Fit the GridSearchCV on the reduced training data\n",
    "grid_search.fit(reduced_data_pca, train_labels)\n",
    "\n",
    "# Get the best parameter value and corresponding accuracy score\n",
    "best_n_neighbors = grid_search.best_params_['n_neighbors']\n",
    "best_accuracy = grid_search.best_score_\n",
    "\n",
    "print(f\"Best n_neighbors: {best_n_neighbors}\")\n",
    "print(f\"Best accuracy: {best_accuracy}\")\n"
   ]
  },
  {
   "cell_type": "code",
   "execution_count": 13,
   "metadata": {
    "colab": {
     "base_uri": "https://localhost:8080/"
    },
    "id": "JzFSGnoHG57h",
    "outputId": "702f74b5-1e04-46e0-a87c-9ee97c23ba9a"
   },
   "outputs": [
    {
     "name": "stdout",
     "output_type": "stream",
     "text": [
      "KNN Accuracy: 0.4368\n",
      "KNN Classification Report:\n",
      "                    precision    recall  f1-score   support\n",
      "\n",
      "    AaronPressman       0.41      0.70      0.52        50\n",
      "       AlanCrosby       0.44      0.66      0.53        50\n",
      "   AlexanderSmith       0.45      0.28      0.35        50\n",
      "  BenjaminKangLim       0.23      0.28      0.25        50\n",
      "    BernardHickey       0.15      0.58      0.23        50\n",
      "      BradDorfman       0.21      0.66      0.32        50\n",
      " DarrenSchuettler       0.45      0.20      0.28        50\n",
      "      DavidLawder       0.72      0.26      0.38        50\n",
      "    EdnaFernandes       0.12      0.42      0.19        50\n",
      "      EricAuchard       0.24      0.42      0.30        50\n",
      "   FumikoFujisaki       0.93      0.52      0.67        50\n",
      "   GrahamEarnshaw       0.66      0.50      0.57        50\n",
      " HeatherScoffield       0.33      0.44      0.38        50\n",
      "       JanLopatka       0.62      0.46      0.53        50\n",
      "    JaneMacartney       0.21      0.16      0.18        50\n",
      "     JimGilchrist       0.70      0.98      0.82        50\n",
      "   JoWinterbottom       0.73      0.66      0.69        50\n",
      "         JoeOrtiz       0.38      0.28      0.32        50\n",
      "     JohnMastrini       0.28      0.22      0.25        50\n",
      "     JonathanBirt       0.33      0.56      0.42        50\n",
      "      KarlPenhaul       0.57      0.94      0.71        50\n",
      "        KeithWeir       0.49      0.50      0.50        50\n",
      "   KevinDrawbaugh       0.15      0.18      0.16        50\n",
      "    KevinMorrison       0.69      0.18      0.29        50\n",
      "    KirstinRidley       0.63      0.44      0.52        50\n",
      "KouroshKarimkhany       0.58      0.66      0.62        50\n",
      "        LydiaZajc       0.68      0.68      0.68        50\n",
      "   LynneO'Donnell       0.94      0.66      0.78        50\n",
      "  LynnleyBrowning       0.90      0.92      0.91        50\n",
      "  MarcelMichelson       0.57      0.48      0.52        50\n",
      "     MarkBendeich       0.62      0.36      0.46        50\n",
      "       MartinWolk       0.61      0.38      0.47        50\n",
      "     MatthewBunce       0.98      0.82      0.89        50\n",
      "    MichaelConnor       0.52      0.46      0.49        50\n",
      "       MureDickie       0.23      0.14      0.17        50\n",
      "        NickLouth       0.87      0.26      0.40        50\n",
      "  PatriciaCommins       0.87      0.40      0.55        50\n",
      "    PeterHumphrey       0.47      0.42      0.44        50\n",
      "       PierreTran       0.62      0.16      0.25        50\n",
      "       RobinSidel       1.00      0.44      0.61        50\n",
      "     RogerFillion       0.94      0.34      0.50        50\n",
      "      SamuelPerry       0.56      0.18      0.27        50\n",
      "     SarahDavison       0.57      0.16      0.25        50\n",
      "      ScottHillis       0.26      0.18      0.21        50\n",
      "      SimonCowell       0.64      0.36      0.46        50\n",
      "         TanEeLyn       0.35      0.66      0.46        50\n",
      "   TheresePoletti       0.78      0.36      0.49        50\n",
      "       TimFarrand       0.41      0.34      0.37        50\n",
      "       ToddNissen       0.48      0.28      0.35        50\n",
      "     WilliamKazer       0.33      0.26      0.29        50\n",
      "\n",
      "         accuracy                           0.44      2500\n",
      "        macro avg       0.54      0.44      0.44      2500\n",
      "     weighted avg       0.54      0.44      0.44      2500\n",
      "\n"
     ]
    }
   ],
   "source": [
    "\n",
    "knn = KNeighborsClassifier(n_neighbors=3)\n",
    "\n",
    "# Fit the classifier on the reduced training data\n",
    "knn.fit(reduced_data_pca, train_labels)\n",
    "knn_predictions = knn.predict(reduced_test_dtm)\n",
    "# Evaluate the KNN model\n",
    "knn_accuracy = accuracy_score(test_labels, knn_predictions)\n",
    "knn_classification_rep = classification_report(test_labels, knn_predictions)\n",
    "\n",
    "print(f\"KNN Accuracy: {knn_accuracy}\")\n",
    "print(\"KNN Classification Report:\\n\", knn_classification_rep)"
   ]
  },
  {
   "cell_type": "code",
   "execution_count": 14,
   "metadata": {
    "colab": {
     "base_uri": "https://localhost:8080/"
    },
    "id": "OclxhseBH10q",
    "outputId": "b6034836-484d-415d-82da-2a7a15d2ae14"
   },
   "outputs": [
    {
     "name": "stdout",
     "output_type": "stream",
     "text": [
      "Epoch 1/10\n",
      "79/79 [==============================] - 6s 3ms/step - loss: 3.2246 - accuracy: 0.2580\n",
      "Epoch 2/10\n",
      "79/79 [==============================] - 0s 3ms/step - loss: 1.2325 - accuracy: 0.7904\n",
      "Epoch 3/10\n",
      "79/79 [==============================] - 0s 3ms/step - loss: 0.6147 - accuracy: 0.9068\n",
      "Epoch 4/10\n",
      "79/79 [==============================] - 0s 3ms/step - loss: 0.3514 - accuracy: 0.9484\n",
      "Epoch 5/10\n",
      "79/79 [==============================] - 0s 3ms/step - loss: 0.2219 - accuracy: 0.9780\n",
      "Epoch 6/10\n",
      "79/79 [==============================] - 0s 3ms/step - loss: 0.1511 - accuracy: 0.9864\n",
      "Epoch 7/10\n",
      "79/79 [==============================] - 0s 3ms/step - loss: 0.1002 - accuracy: 0.9968\n",
      "Epoch 8/10\n",
      "79/79 [==============================] - 0s 3ms/step - loss: 0.0724 - accuracy: 0.9976\n",
      "Epoch 9/10\n",
      "79/79 [==============================] - 0s 3ms/step - loss: 0.0548 - accuracy: 0.9992\n",
      "Epoch 10/10\n",
      "79/79 [==============================] - 0s 3ms/step - loss: 0.0423 - accuracy: 0.9992\n",
      "79/79 [==============================] - 0s 1ms/step\n",
      "Neural Network Accuracy: 0.6328\n",
      "Neural Network Classification Report:\n",
      "                    precision    recall  f1-score   support\n",
      "\n",
      "    AaronPressman       0.72      0.86      0.78        50\n",
      "       AlanCrosby       0.94      0.60      0.73        50\n",
      "   AlexanderSmith       0.51      0.50      0.51        50\n",
      "  BenjaminKangLim       0.44      0.30      0.36        50\n",
      "    BernardHickey       0.62      0.52      0.57        50\n",
      "      BradDorfman       0.43      0.72      0.54        50\n",
      " DarrenSchuettler       0.53      0.20      0.29        50\n",
      "      DavidLawder       0.83      0.38      0.52        50\n",
      "    EdnaFernandes       0.67      0.36      0.47        50\n",
      "      EricAuchard       0.43      0.46      0.44        50\n",
      "   FumikoFujisaki       0.93      0.86      0.90        50\n",
      "   GrahamEarnshaw       0.71      0.72      0.71        50\n",
      " HeatherScoffield       0.34      0.44      0.39        50\n",
      "       JanLopatka       0.64      0.58      0.61        50\n",
      "    JaneMacartney       0.30      0.30      0.30        50\n",
      "     JimGilchrist       0.94      1.00      0.97        50\n",
      "   JoWinterbottom       0.83      0.68      0.75        50\n",
      "         JoeOrtiz       0.51      0.60      0.55        50\n",
      "     JohnMastrini       0.53      0.74      0.62        50\n",
      "     JonathanBirt       0.62      0.78      0.69        50\n",
      "      KarlPenhaul       0.80      0.94      0.86        50\n",
      "        KeithWeir       0.73      0.92      0.81        50\n",
      "   KevinDrawbaugh       0.64      0.56      0.60        50\n",
      "    KevinMorrison       0.68      0.68      0.68        50\n",
      "    KirstinRidley       0.57      0.62      0.60        50\n",
      "KouroshKarimkhany       0.72      0.68      0.70        50\n",
      "        LydiaZajc       0.75      0.78      0.76        50\n",
      "   LynneO'Donnell       0.95      0.78      0.86        50\n",
      "  LynnleyBrowning       0.92      0.96      0.94        50\n",
      "  MarcelMichelson       0.74      0.56      0.64        50\n",
      "     MarkBendeich       0.69      0.68      0.69        50\n",
      "       MartinWolk       0.73      0.70      0.71        50\n",
      "     MatthewBunce       0.96      0.90      0.93        50\n",
      "    MichaelConnor       0.61      0.86      0.71        50\n",
      "       MureDickie       0.30      0.34      0.32        50\n",
      "        NickLouth       0.84      0.72      0.77        50\n",
      "  PatriciaCommins       0.69      0.70      0.69        50\n",
      "    PeterHumphrey       0.54      0.68      0.60        50\n",
      "       PierreTran       0.71      0.72      0.71        50\n",
      "       RobinSidel       0.79      0.74      0.76        50\n",
      "     RogerFillion       0.95      0.80      0.87        50\n",
      "      SamuelPerry       0.46      0.50      0.48        50\n",
      "     SarahDavison       0.65      0.60      0.63        50\n",
      "      ScottHillis       0.19      0.20      0.19        50\n",
      "      SimonCowell       0.70      0.78      0.74        50\n",
      "         TanEeLyn       0.46      0.52      0.49        50\n",
      "   TheresePoletti       0.87      0.66      0.75        50\n",
      "       TimFarrand       0.73      0.64      0.68        50\n",
      "       ToddNissen       0.48      0.50      0.49        50\n",
      "     WilliamKazer       0.25      0.32      0.28        50\n",
      "\n",
      "         accuracy                           0.63      2500\n",
      "        macro avg       0.65      0.63      0.63      2500\n",
      "     weighted avg       0.65      0.63      0.63      2500\n",
      "\n"
     ]
    }
   ],
   "source": [
    "#Neural Network\n",
    "import numpy as np\n",
    "from sklearn.preprocessing import LabelEncoder\n",
    "from keras.models import Sequential\n",
    "from keras.layers import Dense\n",
    "from sklearn.metrics import classification_report, accuracy_score\n",
    "\n",
    "# Convert labels to numerical values\n",
    "label_encoder = LabelEncoder()\n",
    "train_labels_encoded = label_encoder.fit_transform(train_labels)\n",
    "test_labels_encoded = label_encoder.transform(test_labels)\n",
    "\n",
    "# Define the neural network architecture\n",
    "model = Sequential()\n",
    "model.add(Dense(128, input_dim=reduced_data_pca.shape[1], activation='relu'))\n",
    "model.add(Dense(len(np.unique(train_labels_encoded)), activation='softmax'))  # Output layer\n",
    "\n",
    "# Compile the model\n",
    "model.compile(loss='sparse_categorical_crossentropy', optimizer='adam', metrics=['accuracy'])\n",
    "\n",
    "# Train the model\n",
    "model.fit(reduced_data_pca, train_labels_encoded, epochs=10, batch_size=32, verbose=1)\n",
    "\n",
    "# Evaluate the model on the test data\n",
    "nn_prob_predictions = model.predict(reduced_test_dtm)\n",
    "nn_predictions_encoded = np.argmax(nn_prob_predictions, axis=1)\n",
    "\n",
    "nn_accuracy = accuracy_score(test_labels_encoded, nn_predictions_encoded)\n",
    "nn_classification_rep = classification_report(test_labels_encoded, nn_predictions_encoded, target_names=label_encoder.classes_)\n",
    "\n",
    "print(f\"Neural Network Accuracy: {nn_accuracy}\")\n",
    "print(\"Neural Network Classification Report:\\n\", nn_classification_rep)"
   ]
  },
  {
   "cell_type": "markdown",
   "metadata": {
    "id": "iuoYDJgOp2MK"
   },
   "source": [
    "### Question : \n",
    "How can we design features for each document that enhance the predictive model's performance in correctly identifying authors?"
   ]
  },
  {
   "cell_type": "markdown",
   "metadata": {
    "id": "FbJK1L2Bqi3n"
   },
   "source": [
    "### Approach: \n",
    "We began with the tokenization process, stripping away whitespace, purging punctuation, and applying stemming. Subsequently, PCA was employed to streamline the variable count. Several modeling techniques were then utilized, encompassing KNN, Random Forest, and Neural Networks."
   ]
  },
  {
   "cell_type": "markdown",
   "metadata": {
    "id": "UVRvqjoJrduA"
   },
   "source": [
    "### Results: \n",
    "For every model executed, tables detailing various statistical metrics were generated. These tables were paired with the corresponding confusion matrix and accuracy scores.\n",
    "\n",
    "Examining the top 5 authors from the lists produced by the three models using their f1 scores we get:\n",
    "\n",
    "1) MatthewBunce - Appears in all three models (Random Forest, KNN, Neural Network).\n",
    "2) LynnleyBrowning - Appears in all three models.\n",
    "3) JimGilchrist - Appears in all three models.\n",
    "4) FumikoFujisaki - Appears in both the Random Forest and Neural Network models.\n",
    "5) LydiaZajc - Appears only in the Random Forest model.\n",
    "6) LynneO'Donnell - Appears only in the KNN model.\n",
    "7) KarlPenhaul - Appears only in the KNN model.\n",
    "8) RogerFillion - Appears only in the Neural Network model.\n",
    "\n",
    "### Analysis:\n",
    "\n",
    "1) MatthewBunce, LynnleyBrowning, and JimGilchrist are universally recognized across all three models. This could imply that their writing styles or the content they produce is distinct and consistent, allowing each model to identify them with relative ease. These authors could be the most influential or prolific within the dataset.\n",
    "\n",
    "2) FumikoFujisaki is recognized by both the Random Forest and Neural Network models but is missed by the KNN. This might suggest certain subtleties in her writing style or topics that the KNN model fails to capture.\n",
    "\n",
    "3) LydiaZajc, LynneO'Donnell, KarlPenhaul, and RogerFillion are unique to their respective models. This implies that these authors might have nuanced characteristics in their writing that only one of the models could pick up effectively.\n",
    "\n",
    "In summary, while certain authors seem to have universally distinguishable characteristics in their writings, some authors' styles or content might be better recognized by specific models. This further underscores the importance of using an ensemble of models or choosing the most appropriate model for the task when working with complex datasets."
   ]
  },
  {
   "cell_type": "markdown",
   "metadata": {
    "id": "x4qMXz3arsxw"
   },
   "source": [
    "### Conclusion: \n",
    "Here's a breakdown of the model accuracies:\n",
    "\n",
    "1) Random Forest: 0.55\n",
    "2) KNN: 0.43\n",
    "3) Neural Network: 0.63\n",
    "\n",
    "Among the trio, the Neural Network emerged as the superior performer.\n"
   ]
  }
 ],
 "metadata": {
  "accelerator": "GPU",
  "colab": {
   "gpuType": "T4",
   "provenance": []
  },
  "kernelspec": {
   "display_name": "Python 3 (ipykernel)",
   "language": "python",
   "name": "python3"
  },
  "language_info": {
   "codemirror_mode": {
    "name": "ipython",
    "version": 3
   },
   "file_extension": ".py",
   "mimetype": "text/x-python",
   "name": "python",
   "nbconvert_exporter": "python",
   "pygments_lexer": "ipython3",
   "version": "3.10.9"
  }
 },
 "nbformat": 4,
 "nbformat_minor": 1
}
